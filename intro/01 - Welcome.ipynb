{
 "cells": [
  {
   "cell_type": "markdown",
   "id": "fd80e74f",
   "metadata": {
    "slideshow": {
     "slide_type": "slide"
    }
   },
   "source": [
    "# **Parsl Hands on Tutorial**\n",
    "\n",
    "<table style=\"width:90%\">\n",
    "    <tr><td style=\"text-align:left;\"></td><td style=\"text-align:right;\"><a href=\"./02 - What is Parsl.ipynb\">Next (What is Parsl)</a></td></tr>\n",
    "</table>\n",
    "\n",
    "## **Topics**\n",
    "\n",
    "* What is Parsl?\n",
    "* Parsl Basics\n",
    "  * Bulding Blocks\n",
    "* Configuring Parsl\n",
    "  * How to get Parsl to run jobs on any system\n",
    "* Files in Parsl\n",
    "  * Local\n",
    "  * Remote\n",
    "* Workflows and Examples\n",
    "\n",
    "\n",
    "## **Useful Resources**\n",
    "* Basic Parsl online [tutorial](https://parsl.readthedocs.io/en/stable/1-parsl-introduction.html)\n",
    "* Parsl [user guide](https://parsl.readthedocs.io/en/stable/userguide/index.html)\n",
    "* Parsl [API documentation](https://parsl.readthedocs.io/en/stable/reference.html)\n",
    "\n",
    "## **Installation**\n",
    "### **Pip**\n",
    "```\n",
    "$ python3 -m pip install parsl\n",
    "```\n",
    "### **Conda**\n",
    "```\n",
    "$ conda create --name parsl_py310 python=3.10\n",
    "$ source activate parsl_py310\n",
    "\n",
    "$ python3 -m pip install parsl\n",
    "or\n",
    "$ conda config --add channels conda-forge\n",
    "$ conda install parsl\n",
    "```\n",
    "### **From source**\n",
    "```\n",
    "$ git clone https://github.com/Parsl/parsl\n",
    "$ cd parsl\n",
    "$ pip install .\n",
    "```\n",
    "<P>\n",
    "<table style=\"width:90%\">\n",
    "    <tr><td style=\"text-align:left;\"></td><td style=\"text-align:right;\"><a href=\"./02 - What is Parsl.ipynb\">Next (What is Parsl)</a></td></tr>\n",
    "</table>"
   ]
  }
 ],
 "metadata": {
  "kernelspec": {
   "display_name": "Python 3 (ipykernel)",
   "language": "python",
   "name": "python3"
  },
  "language_info": {
   "codemirror_mode": {
    "name": "ipython",
    "version": 3
   },
   "file_extension": ".py",
   "mimetype": "text/x-python",
   "name": "python",
   "nbconvert_exporter": "python",
   "pygments_lexer": "ipython3",
   "version": "3.10.12"
  }
 },
 "nbformat": 4,
 "nbformat_minor": 5
}
