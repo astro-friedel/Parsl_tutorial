{
 "cells": [
  {
   "cell_type": "markdown",
   "id": "b10cb06d",
   "metadata": {},
   "source": [
    "# **What is Parsl?**\n",
    "\n",
    "<table style=\"width:90%\">\n",
    "    <tr><td style=\"text-align:left;\"><a href=\"./01 - Welcome.ipynb\">Welcome</a></td><td style=\"text-align:right;\"><a href=\"./03 - Basics.ipynb\">Next (Parsl Basics)</a></td></tr>\n",
    "</table>\n",
    "\n",
    "* Flexible and scalable parallel programming library for Python\n",
    "  * Aimed at parallelizing workflows\n",
    "* Simple to use\n",
    "  * `@python_app` decorator for python functions\n",
    "  * `@bash_app` for most anything else\n",
    "  * `@join_app` for dynamic workflows\n",
    "* Extensible and scalable at run time\n",
    "  * From 1 to 8192 compute nodes\n",
    "  * From 1 to 262,144 workers\n",
    "* Highly portable, same code can run on laptop or HPC\n",
    "* Built in interfaces for many target resources\n",
    "  * Cloud based (AWS, Google Cloud)\n",
    "  * Clusters (Slurm, Torque/PBS, HTCondor, Cobalt)\n",
    "  * Containers (Kubernetes)\n",
    "* Can be used to implement many parallel computing paradigms\n",
    "  * Concurrent execution of tasks in a bag-of-tasks program.\n",
    "  * Procedural workflows in which tasks are executed following control logic.\n",
    "  * Parallel dataflow in which tasks are executed when their data dependencies are met.\n",
    "  * Many-task applications in which many computing resources are used to perform various computational tasks.\n",
    "  * Dynamic workflows in which the workflow is dynamically determined during execution.\n",
    "  * Interactive parallel programming through notebooks or interactive.\n",
    "\n",
    "\n",
    "<table style=\"width:90%\">\n",
    "    <tr><td style=\"text-align:left;\"><a href=\"./01 - Welcome.ipynb\">Welcome</a></td><td style=\"text-align:right;\"><a href=\"./03 - Basics.ipynb\">Next (Parsl Basics)</a></td></tr>\n",
    "</table>\n"
   ]
  },
  {
   "cell_type": "code",
   "execution_count": null,
   "id": "3f674930",
   "metadata": {},
   "outputs": [],
   "source": []
  }
 ],
 "metadata": {
  "kernelspec": {
   "display_name": "Python 3 (ipykernel)",
   "language": "python",
   "name": "python3"
  },
  "language_info": {
   "codemirror_mode": {
    "name": "ipython",
    "version": 3
   },
   "file_extension": ".py",
   "mimetype": "text/x-python",
   "name": "python",
   "nbconvert_exporter": "python",
   "pygments_lexer": "ipython3",
   "version": "3.10.12"
  }
 },
 "nbformat": 4,
 "nbformat_minor": 5
}
